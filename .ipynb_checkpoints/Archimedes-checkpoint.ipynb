{
 "cells": [
  {
   "cell_type": "markdown",
   "metadata": {},
   "source": [
    "# Archimedes and Uncertainty\n",
    "\n",
    "Density of 316L\n",
    "\n",
    "Source 1. The only one which gave a range or tolerance. All others fall within these limits.\n",
    "https://www.azom.com/properties.aspx?ArticleID=863\n",
    "(SI units: g/cm3)\n",
    "lower limit: 7.87\n",
    "upper limit: 8.07\n",
    "\n",
    "Variability:\n",
    "7.97±0.1g/cm3\n",
    "\n",
    "another source:\n",
    "https://www.theworldmaterial.com/weight-density-of-stainless-steel/\n",
    "(SI units: g/cm3)\n",
    "7.93\n",
    "\n",
    "another source:\n",
    "https://www.thyssenkrupp-materials.co.uk/stainless-steel-316l-14404.html\n",
    "(SI units: kg/m3)\n",
    "8.0\n",
    "\n",
    "another source:\n",
    "https://www.upmet.com/sites/default/files/datasheets/316-316l.pdf\n",
    "(SI units: g/cm3)\n",
    "8.03 \n",
    "\n",
    "another source:\n",
    "https://www.aksteel.com/sites/default/files/2018-11/316-316l-stainless.pdf\n",
    "(SI units: g/cm3)\n",
    "7.99\n",
    "\n",
    "another source\n",
    "https://www.sandmeyersteel.com/images/316-316L-317L-Spec-Sheet.pdf\n",
    "(SI units: g/cm3)\n",
    "7.90 \n",
    "\n",
    "another source:\n",
    "https://industeel.arcelormittal.com/products/stainless-steels/austenitic/ur-316l/\n",
    "(SI units: kg/m3)\n",
    "7950\n",
    "\n",
    "another source (think they got the units wrong):\n",
    "https://www.smithmetal.com/pdf/stainless/316-316l-stainless.pdf\n",
    "(SI units: kg/m3)\n",
    "8.00\n",
    "\n",
    "another source (Metal injection molding, very low):\n",
    "https://www.optimim.com/en/metal-injection-molding-mim/material-options/stainless-steel/mim-316l\n",
    "(SI units: g/cm3)\n",
    "7.6\n",
    "\n",
    "another source:\n",
    "https://www.theworldmaterial.com/aisi-316-ss316-stainless-steel-properties-composition/\n",
    "(SI units: g/cm3)\n",
    "8.03\n",
    "\n",
    "another source:\n",
    "https://amesweb.info/Materials/Density_of_Steel.aspx\n",
    "(SI units: g/cm3)\n",
    "8.00\n",
    "\n",
    "another source:\n",
    "www.atlassteels.com.au/documents/Atlas316-316L.pdf\n",
    "(SI units: kg/m3)\n",
    "8000\n",
    "\n",
    "Uncertainties propagation (Root Sum of the Squares): $$ \\omega_{R} = \\left( \\sum_{i=1}^{n}\\left[ \\omega_{x_{i}} \\frac{\\partial R}{\\partial x_{i}}\\right]^{2}\\right)^{\\frac{1}{2}} $$\n",
    "\n",
    "Archimedes:\n",
    "\n",
    "$$ porosity = 100 - \\left(\\frac{\\rho_{measured}}{\\rho_{theoretical}}\\right) \\times 100 $$\n",
    "\n",
    "assume $ \\omega_{\\rho_{measured}} \\ll \\omega_{\\rho_{theoretical}}$\n",
    "\n",
    "therefore,\n",
    "\n",
    "$$ \\omega_{porosity} = \\omega_{\\rho_{theoretical}} \\frac{\\rho_{measured}}{\\rho_{theoretical}^{2}} \\times 100 $$\n"
   ]
  },
  {
   "cell_type": "code",
   "execution_count": 54,
   "metadata": {},
   "outputs": [],
   "source": [
    "import numpy as np"
   ]
  },
  {
   "cell_type": "code",
   "execution_count": 57,
   "metadata": {},
   "outputs": [],
   "source": [
    "# 10 values from industry datasheets\n",
    "# this ignores the value from MIM\n",
    "industry_vals = [7.93,8.0,8.03,7.99,7.90,7.950,8.00,8.03,8.00,8.00]"
   ]
  },
  {
   "cell_type": "code",
   "execution_count": 61,
   "metadata": {},
   "outputs": [
    {
     "name": "stdout",
     "output_type": "stream",
     "text": [
      "Theoretical density (g/cm3) = 7.79 ± 0.07\n"
     ]
    }
   ],
   "source": [
    "# estimated density of a 1% porous sample (99% dense)\n",
    "theoretical_density = np.mean(industry_vals)\n",
    "# based on chemistry\n",
    "theoretical_density = 7.79\n",
    "\n",
    "theoretical_density_uncertainty = np.std(industry_vals)\n",
    "# based on chemistry\n",
    "theoretical_density_uncertainty = 0.07\n",
    "\n",
    "print('Theoretical density (g/cm3) = ' + str(theoretical_density) + ' ± ' +str(theoretical_density_uncertainty))\n",
    "# Uncertainty of given 7.99±0.1 g/cm3"
   ]
  },
  {
   "cell_type": "code",
   "execution_count": 62,
   "metadata": {},
   "outputs": [
    {
     "name": "stdout",
     "output_type": "stream",
     "text": [
      "True Sample porosity (%) = 1\n",
      "Measured Sample density (g/cm3) = 7.7121\n"
     ]
    }
   ],
   "source": [
    "true_sample_porosity = 1\n",
    "print('True Sample porosity (%) = '+str(true_sample_porosity))\n",
    "\n",
    "measured_sample_density =(1-(true_sample_porosity/100))*theoretical_density\n",
    "print('Measured Sample density (g/cm3) = ' + str(measured_sample_density))"
   ]
  },
  {
   "cell_type": "code",
   "execution_count": 65,
   "metadata": {},
   "outputs": [
    {
     "name": "stdout",
     "output_type": "stream",
     "text": [
      "Measured sample porosity (%) = 1.0 ± 0.8896020539152761\n"
     ]
    }
   ],
   "source": [
    "measured_sample_porosity = 100-(measured_sample_density/theoretical_density)*100\n",
    "porosity_uncertainty = theoretical_density_uncertainty*(measured_sample_density/(theoretical_density**2))*100\n",
    "print('Measured sample porosity (%) = ' + str(round(measured_sample_porosity,1)) + ' ± ' + str(porosity_uncertainty))"
   ]
  }
 ],
 "metadata": {
  "kernelspec": {
   "display_name": "Python 3",
   "language": "python",
   "name": "python3"
  },
  "language_info": {
   "codemirror_mode": {
    "name": "ipython",
    "version": 3
   },
   "file_extension": ".py",
   "mimetype": "text/x-python",
   "name": "python",
   "nbconvert_exporter": "python",
   "pygments_lexer": "ipython3",
   "version": "3.8.3"
  }
 },
 "nbformat": 4,
 "nbformat_minor": 4
}
